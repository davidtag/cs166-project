{
 "cells": [
  {
   "cell_type": "code",
   "execution_count": 3,
   "metadata": {},
   "outputs": [],
   "source": [
    "from lsh import *\n",
    "from utils import *\n",
    "from query import *\n",
    "\n",
    "%load_ext autoreload\n",
    "%autoreload 2"
   ]
  },
  {
   "cell_type": "code",
   "execution_count": 4,
   "metadata": {},
   "outputs": [],
   "source": [
    "PATH_IMGS     = \"imnet-val/val/\"\n",
    "FILE_FEATURES = \"imnet-val/cnn-5000.p\"\n",
    "FNAME_OFFSET  = 48 #prefix of stored file names to chop off\n",
    "IMSIZE        = (224, 224)\n",
    "\n",
    "data = dataset(FILE_FEATURES,PATH_IMGS,IMSIZE,normalize=True,fname_offt=FNAME_OFFSET)\n",
    "N_data = data.X.shape[1]\n",
    "\n",
    "PATH_IMGS     = \"imnet-test-1000/imgs/\"\n",
    "FILE_FEATURES = \"imnet-test-1000/cnn-1000.p\"\n",
    "FNAME_OFFSET  = 23 #prefix of stored file names to chop off\n",
    "IMSIZE        = (224, 224)\n",
    "queries = dataset(FILE_FEATURES,PATH_IMGS,IMSIZE,normalize=True,fname_offt=FNAME_OFFSET)"
   ]
  },
  {
   "cell_type": "code",
   "execution_count": null,
   "metadata": {},
   "outputs": [],
   "source": [
    "b = 200 #hash bits\n",
    "M = 30  #number of permutations\n",
    "\n",
    "query_obj = query(data=data, queries_dataset=queries, hash_bits=b, \n",
    "                  permutations=M)\n",
    "\n",
    "L = 4   #number of neighbors to make candidates\n",
    "k = 10  #top-k nearest neighbors\n",
    "N_queries = 100\n",
    "\n",
    "t, ndgc = query_obj.time_and_compare(N_queries, N_neighbor_candidates=L, k_report=k)\n",
    "query_obj.ndgc_plot()\n",
    "print(t, ndgc)"
   ]
  },
  {
   "cell_type": "code",
   "execution_count": null,
   "metadata": {},
   "outputs": [],
   "source": [
    "N_queries = 10\n",
    "\n",
    "\n",
    "Ls = [4] #number of neighbors to make candidates\n",
    "bs = [200] #hash bits\n",
    "es = [2.7] #error tolerance\n",
    "\n",
    "Ls = [0, 2, 4, 8] #number of neighbors to make candidates\n",
    "bs = [20, 80, 200, 600] #hash bits\n",
    "es = [4, 2.7, 2.1, 1.5] #error tolerance\n",
    "\n",
    "# Ls = [0, 10] #number of neighbors to make candidates\n",
    "# bs = range(5, 500, 20)\n",
    "# es = [15, 1.5] #error tolerance\n",
    "\n",
    "results = param_search(data, queries, Ls, bs, es, N_queries)"
   ]
  },
  {
   "cell_type": "code",
   "execution_count": null,
   "metadata": {},
   "outputs": [],
   "source": [
    "axlims = [0, 10, 0, 1]\n",
    "plot_search(results, N_data, N_queries, axlims)"
   ]
  },
  {
   "cell_type": "code",
   "execution_count": null,
   "metadata": {},
   "outputs": [],
   "source": [
    "plot_param_search(results, 0, N_data, N_queries, axlims)"
   ]
  },
  {
   "cell_type": "code",
   "execution_count": null,
   "metadata": {},
   "outputs": [],
   "source": [
    "plot_param_search(results, 1, N_data, N_queries, axlims)"
   ]
  },
  {
   "cell_type": "code",
   "execution_count": null,
   "metadata": {},
   "outputs": [],
   "source": [
    "plot_param_search(results, 2, N_data, N_queries, axlims)"
   ]
  },
  {
   "cell_type": "code",
   "execution_count": null,
   "metadata": {},
   "outputs": [],
   "source": []
  },
  {
   "cell_type": "markdown",
   "metadata": {},
   "source": [
    "# Vary b"
   ]
  },
  {
   "cell_type": "code",
   "execution_count": 1,
   "metadata": {},
   "outputs": [
    {
     "ename": "NameError",
     "evalue": "name 'param_search' is not defined",
     "output_type": "error",
     "traceback": [
      "\u001b[0;31m---------------------------------------------------------------------------\u001b[0m",
      "\u001b[0;31mNameError\u001b[0m                                 Traceback (most recent call last)",
      "\u001b[0;32m<ipython-input-1-8df161467187>\u001b[0m in \u001b[0;36m<module>\u001b[0;34m\u001b[0m\n\u001b[1;32m      5\u001b[0m \u001b[0mes\u001b[0m \u001b[0;34m=\u001b[0m \u001b[0;34m[\u001b[0m\u001b[0;36m15\u001b[0m\u001b[0;34m,\u001b[0m \u001b[0;36m1.5\u001b[0m\u001b[0;34m]\u001b[0m \u001b[0;31m#error tolerance\u001b[0m\u001b[0;34m\u001b[0m\u001b[0;34m\u001b[0m\u001b[0m\n\u001b[1;32m      6\u001b[0m \u001b[0;34m\u001b[0m\u001b[0m\n\u001b[0;32m----> 7\u001b[0;31m \u001b[0mresults\u001b[0m \u001b[0;34m=\u001b[0m \u001b[0mparam_search\u001b[0m\u001b[0;34m(\u001b[0m\u001b[0mdata\u001b[0m\u001b[0;34m,\u001b[0m \u001b[0mqueries\u001b[0m\u001b[0;34m,\u001b[0m \u001b[0mLs\u001b[0m\u001b[0;34m,\u001b[0m \u001b[0mbs\u001b[0m\u001b[0;34m,\u001b[0m \u001b[0mes\u001b[0m\u001b[0;34m,\u001b[0m \u001b[0mN_queries\u001b[0m\u001b[0;34m)\u001b[0m\u001b[0;34m\u001b[0m\u001b[0;34m\u001b[0m\u001b[0m\n\u001b[0m\u001b[1;32m      8\u001b[0m \u001b[0mplot_param_search\u001b[0m\u001b[0;34m(\u001b[0m\u001b[0mresults\u001b[0m\u001b[0;34m,\u001b[0m \u001b[0;36m0\u001b[0m\u001b[0;34m,\u001b[0m \u001b[0mN_data\u001b[0m\u001b[0;34m,\u001b[0m \u001b[0mN_queries\u001b[0m\u001b[0;34m,\u001b[0m \u001b[0maxlims\u001b[0m\u001b[0;34m)\u001b[0m\u001b[0;34m\u001b[0m\u001b[0;34m\u001b[0m\u001b[0m\n",
      "\u001b[0;31mNameError\u001b[0m: name 'param_search' is not defined"
     ]
    }
   ],
   "source": [
    "N_queries = 10\n",
    "\n",
    "Ls = [0, 10] #number of neighbors to make candidates\n",
    "bs = range(5, 250, 20)\n",
    "es = [15, 1.5] #error tolerance\n",
    "\n",
    "results = param_search(data, queries, Ls, bs, es, N_queries)\n",
    "plot_param_search(results, 0, N_data, N_queries, axlims)"
   ]
  },
  {
   "cell_type": "code",
   "execution_count": 2,
   "metadata": {},
   "outputs": [
    {
     "ename": "NameError",
     "evalue": "name 'plot_param_search' is not defined",
     "output_type": "error",
     "traceback": [
      "\u001b[0;31m---------------------------------------------------------------------------\u001b[0m",
      "\u001b[0;31mNameError\u001b[0m                                 Traceback (most recent call last)",
      "\u001b[0;32m<ipython-input-2-815ba0c4f7b4>\u001b[0m in \u001b[0;36m<module>\u001b[0;34m\u001b[0m\n\u001b[0;32m----> 1\u001b[0;31m \u001b[0mplot_param_search\u001b[0m\u001b[0;34m(\u001b[0m\u001b[0mresults\u001b[0m\u001b[0;34m,\u001b[0m \u001b[0;36m0\u001b[0m\u001b[0;34m,\u001b[0m \u001b[0mN_data\u001b[0m\u001b[0;34m,\u001b[0m \u001b[0mN_queries\u001b[0m\u001b[0;34m,\u001b[0m \u001b[0maxlims\u001b[0m\u001b[0;34m)\u001b[0m\u001b[0;34m\u001b[0m\u001b[0;34m\u001b[0m\u001b[0m\n\u001b[0m",
      "\u001b[0;31mNameError\u001b[0m: name 'plot_param_search' is not defined"
     ]
    }
   ],
   "source": [
    "plot_param_search(results, 0, N_data, N_queries, axlims)"
   ]
  },
  {
   "cell_type": "code",
   "execution_count": null,
   "metadata": {},
   "outputs": [],
   "source": []
  }
 ],
 "metadata": {
  "kernelspec": {
   "display_name": "Python 3",
   "language": "python",
   "name": "python3"
  },
  "language_info": {
   "codemirror_mode": {
    "name": "ipython",
    "version": 3
   },
   "file_extension": ".py",
   "mimetype": "text/x-python",
   "name": "python",
   "nbconvert_exporter": "python",
   "pygments_lexer": "ipython3",
   "version": "3.6.8"
  }
 },
 "nbformat": 4,
 "nbformat_minor": 2
}
