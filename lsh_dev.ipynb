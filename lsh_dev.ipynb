{
 "cells": [
  {
   "cell_type": "markdown",
   "metadata": {},
   "source": [
    "----\n",
    "# 0. Environment"
   ]
  },
  {
   "cell_type": "code",
   "execution_count": 1,
   "metadata": {},
   "outputs": [],
   "source": [
    "import numpy as np\n",
    "import matplotlib.pyplot as plt\n",
    "from scipy.spatial.distance import hamming\n",
    "import time\n",
    "import pickle\n",
    "from imageio import imread\n",
    "from sklearn.metrics.pairwise import rbf_kernel\n",
    "from lsh import LSH\n",
    "\n",
    "%load_ext autoreload\n",
    "%autoreload 2"
   ]
  },
  {
   "cell_type": "markdown",
   "metadata": {},
   "source": [
    "----\n",
    "# 1. Data"
   ]
  },
  {
   "cell_type": "markdown",
   "metadata": {},
   "source": [
    "## 1.1 Random Data"
   ]
  },
  {
   "cell_type": "code",
   "execution_count": 2,
   "metadata": {},
   "outputs": [],
   "source": [
    "n = 50000 #data points\n",
    "d = 32  #data dimensionality\n",
    "\n",
    "#Random Data : (d,n)\n",
    "X = np.random.normal(0,1,(d,n))\n",
    "X = X/np.linalg.norm(X,keepdims=True,axis=0)\n",
    "\n",
    "#Query : (d,1)\n",
    "q = np.random.normal(0,1,(d,1))\n",
    "q = q/np.linalg.norm(q,keepdims=True,axis=0)"
   ]
  },
  {
   "cell_type": "markdown",
   "metadata": {},
   "source": [
    "## 1.2 Image Data"
   ]
  },
  {
   "cell_type": "code",
   "execution_count": null,
   "metadata": {},
   "outputs": [],
   "source": [
    "data = None\n",
    "fname = \"imnet-val/cnn-50000.p\"\n",
    "with open(fname, 'rb') as f:\n",
    "    data = pickle.load(f)"
   ]
  },
  {
   "cell_type": "code",
   "execution_count": null,
   "metadata": {},
   "outputs": [],
   "source": [
    "data['all_vecs'].shape\n",
    "X = data['all_vecs'].T\n",
    "X = X/np.linalg.norm(X,keepdims=True,axis=0)\n",
    "\n",
    "q_index = 32\n",
    "q = X[:,q_index:q_index+1]\n",
    "#X = X[:,1:]\n",
    "d,n = X.shape"
   ]
  },
  {
   "cell_type": "code",
   "execution_count": null,
   "metadata": {},
   "outputs": [],
   "source": [
    "#print(q)\n",
    "plt.imshow(imread(data['fnames'][q_index]))\n",
    "plt.show()"
   ]
  },
  {
   "cell_type": "markdown",
   "metadata": {},
   "source": [
    "-----\n",
    "# 2. LSH"
   ]
  },
  {
   "cell_type": "code",
   "execution_count": 3,
   "metadata": {},
   "outputs": [],
   "source": [
    "b = 200 #hash bits\n",
    "M = 30  #number of permutations\n",
    "\n",
    "k = 5  #k-NN"
   ]
  },
  {
   "cell_type": "code",
   "execution_count": 4,
   "metadata": {},
   "outputs": [],
   "source": [
    "B = 1\n",
    "lsh = LSH(X,b,M,B)\n",
    "\n",
    "R = lsh.R\n",
    "Sigma = lsh.Sigma"
   ]
  },
  {
   "cell_type": "code",
   "execution_count": 5,
   "metadata": {},
   "outputs": [],
   "source": [
    "# #Random Hash Vectors : (b,d)\n",
    "# #Each row is a vector\n",
    "# R = np.random.normal(0,1,(b,d)) \n",
    "\n",
    "# # Permuations : (M,b)\n",
    "# # Each row is a permutation of indices 0,1,...,b-1\n",
    "# Sigma = []\n",
    "# for _ in range(M):\n",
    "#     Sigma.append(np.random.permutation(b))\n",
    "# Sigma = np.array(Sigma)"
   ]
  },
  {
   "cell_type": "code",
   "execution_count": 6,
   "metadata": {},
   "outputs": [],
   "source": [
    "# Hash of Data : (b,n)\n",
    "# Each column is the hash of a data point\n",
    "def get_hash(R,X):\n",
    "    tmp = R@X #inner product\n",
    "    H = np.zeros(tmp.shape,dtype=np.int8) # 1 byte\n",
    "    H[tmp>=0] = 1\n",
    "    del tmp\n",
    "    return H"
   ]
  },
  {
   "cell_type": "code",
   "execution_count": 7,
   "metadata": {},
   "outputs": [],
   "source": [
    "H_data = get_hash(R,X)  #(b,n)\n",
    "H_q    = get_hash(R,q)  #(b,1)"
   ]
  },
  {
   "cell_type": "code",
   "execution_count": 8,
   "metadata": {},
   "outputs": [],
   "source": [
    "#Permute Rows: (M,b,n)\n",
    "def permute(H,Sigma):\n",
    "    assert(Sigma.shape[1]==H.shape[0])\n",
    "    M = Sigma.shape[0]\n",
    "    H_permute = []\n",
    "    for i in range(M):\n",
    "         H_permute.append(H[Sigma[i],:]) #permute rows\n",
    "    H_permute = np.array(H_permute)\n",
    "    assert(H_permute[0].sum() == H_permute[-1].sum())\n",
    "    return H_permute"
   ]
  },
  {
   "cell_type": "code",
   "execution_count": 9,
   "metadata": {},
   "outputs": [],
   "source": [
    "H_data_permute = permute(H_data,Sigma) #(M,b,n)\n",
    "H_q_permute    = permute(H_q,Sigma)    #(M,b,1)"
   ]
  },
  {
   "cell_type": "code",
   "execution_count": 10,
   "metadata": {},
   "outputs": [],
   "source": [
    "# Interpret axis 1 as bit string: (M,n)\n",
    "def bitstr2float(H_permute):\n",
    "    b = H_permute.shape[1]\n",
    "    pos = np.exp2(np.arange(b-1,-1,-1)).reshape(1,-1,1)\n",
    "    V = (H_permute*pos).sum(axis=1) #broadcase\n",
    "    return V"
   ]
  },
  {
   "cell_type": "code",
   "execution_count": 11,
   "metadata": {},
   "outputs": [],
   "source": [
    "V_data = bitstr2float(H_data_permute)  #(M,n)\n",
    "V_q    = bitstr2float(H_q_permute)     #(M,1)"
   ]
  },
  {
   "cell_type": "code",
   "execution_count": 12,
   "metadata": {},
   "outputs": [],
   "source": [
    "V_data_sort_idx = np.argsort(V_data,axis=-1) # (M,n)\n",
    "V_data_sort_val = np.sort(V_data,axis=-1)    # (M,n)\n",
    "i = int(M/2)\n",
    "j = int(n/3)\n",
    "assert(V_data[i,V_data_sort_idx[i][j]] == V_data_sort_val[i,j])"
   ]
  },
  {
   "cell_type": "code",
   "execution_count": 13,
   "metadata": {},
   "outputs": [
    {
     "name": "stdout",
     "output_type": "stream",
     "text": [
      "0.0\n"
     ]
    }
   ],
   "source": [
    "# M Binary searches\n",
    "t_start = time.time()\n",
    "ans = []\n",
    "for i in range(M):\n",
    "    val_idx = np.searchsorted(V_data_sort_val[i],V_q[i])[0]\n",
    "    idx = V_data_sort_idx[i,val_idx]\n",
    "    assert(V_data[i,idx] == V_data_sort_val[i,val_idx])\n",
    "    ans.append(idx)\n",
    "ans = np.array(ans)\n",
    "t_end = time.time()\n",
    "print(t_end-t_start)"
   ]
  },
  {
   "cell_type": "code",
   "execution_count": 14,
   "metadata": {},
   "outputs": [],
   "source": [
    "#Get top-k\n",
    "hds = []\n",
    "for i in range(M):\n",
    "    hd = hamming(H_q[:,0],H_data[:,ans][:,i])\n",
    "    hds.append(hd)\n",
    "hds = np.array(hds)\n",
    "ans2 = ans[hds.argsort()][:k]"
   ]
  },
  {
   "cell_type": "code",
   "execution_count": 28,
   "metadata": {},
   "outputs": [
    {
     "name": "stdout",
     "output_type": "stream",
     "text": [
      "0.0\n"
     ]
    }
   ],
   "source": [
    "t_start = time.time()\n",
    "ans3 = lsh.top_k(q)\n",
    "t_end = time.time()\n",
    "print(t_end-t_start)"
   ]
  },
  {
   "cell_type": "code",
   "execution_count": 29,
   "metadata": {},
   "outputs": [
    {
     "name": "stdout",
     "output_type": "stream",
     "text": [
      "[19346 22505 23599  9756 22519]\n",
      "[19346 22505 23599  9756 22519]\n"
     ]
    }
   ],
   "source": [
    "print(ans2)\n",
    "print(ans3)"
   ]
  },
  {
   "cell_type": "markdown",
   "metadata": {},
   "source": [
    "------\n",
    "# 3. Analysis"
   ]
  },
  {
   "cell_type": "markdown",
   "metadata": {},
   "source": [
    "**Check Hamming distance**"
   ]
  },
  {
   "cell_type": "code",
   "execution_count": null,
   "metadata": {},
   "outputs": [],
   "source": [
    "#all\n",
    "_sum = 0\n",
    "for i in range(n):\n",
    "    _sum += hamming(H_q[:,0],H_data[:,i])\n",
    "print(_sum/n)"
   ]
  },
  {
   "cell_type": "code",
   "execution_count": null,
   "metadata": {},
   "outputs": [],
   "source": [
    "#selected : M\n",
    "_sum = 0\n",
    "for i in range(M):\n",
    "    _sum += hamming(H_q[:,0],H_data[:,ans][:,i])\n",
    "print(_sum/M)"
   ]
  },
  {
   "cell_type": "code",
   "execution_count": null,
   "metadata": {},
   "outputs": [],
   "source": [
    "#selected : k\n",
    "_sum = 0\n",
    "for i in range(k):\n",
    "    _sum += hamming(H_q[:,0],H_data[:,ans2][:,i])\n",
    "print(_sum/M)"
   ]
  },
  {
   "cell_type": "markdown",
   "metadata": {},
   "source": [
    "**Check Inner Product**"
   ]
  },
  {
   "cell_type": "code",
   "execution_count": null,
   "metadata": {},
   "outputs": [],
   "source": [
    "#all .reshape(1,-1)\n",
    "_all = []\n",
    "for i in range(n):\n",
    "    #ip = np.inner(q[:,0],X[:,i])\n",
    "    #ip = np.linalg.norm(q[:,0]-X[:,i])\n",
    "    ip = float(rbf_kernel(q[:,0].reshape(1,-1),X[:,i].reshape(1,-1),gamma=1e-9))\n",
    "    _all.append(ip)\n",
    "_all = np.array(_all)\n",
    "print(_all.mean())"
   ]
  },
  {
   "cell_type": "code",
   "execution_count": null,
   "metadata": {},
   "outputs": [],
   "source": [
    "#selected : M\n",
    "_sel_M = []\n",
    "for i in range(M):\n",
    "    ip = np.inner(q[:,0],X[:,ans][:,i])\n",
    "    _sel_M.append(ip)\n",
    "_sel_M = np.array(_sel_M)\n",
    "print(_sel_M.mean())"
   ]
  },
  {
   "cell_type": "code",
   "execution_count": null,
   "metadata": {},
   "outputs": [],
   "source": [
    "#selected : k\n",
    "_sel_k = []\n",
    "for i in range(k):\n",
    "    ip = np.inner(q[:,0],X[:,ans2][:,i])\n",
    "    _sel_k.append(ip)\n",
    "_sel_k = np.array(_sel_k)\n",
    "print(_sel_k.mean())"
   ]
  },
  {
   "cell_type": "code",
   "execution_count": null,
   "metadata": {},
   "outputs": [],
   "source": [
    "plt.hist(_all,alpha=0.3,label=\"all\")\n",
    "plt.hist(_sel_M,label=\"selected:M\")\n",
    "plt.legend()\n",
    "plt.show()"
   ]
  },
  {
   "cell_type": "code",
   "execution_count": null,
   "metadata": {},
   "outputs": [],
   "source": [
    "plt.hist(_all,alpha=0.3,density=True,label=\"all\")\n",
    "plt.hist(_sel_M,alpha=0.5,density=True,label=\"selected:M\")\n",
    "plt.hist(_sel_k,alpha=0.5,density=True,label=\"selected:k\")\n",
    "plt.legend()\n",
    "plt.show()"
   ]
  },
  {
   "cell_type": "markdown",
   "metadata": {},
   "source": [
    "------"
   ]
  },
  {
   "cell_type": "markdown",
   "metadata": {},
   "source": [
    "**Check Distance Preservation**"
   ]
  },
  {
   "cell_type": "code",
   "execution_count": null,
   "metadata": {},
   "outputs": [],
   "source": [
    "#all\n",
    "ips = []\n",
    "hds = []\n",
    "for i in range(n):\n",
    "    ip = np.inner(q[:,0],X[:,i])\n",
    "    hd = hamming(H_q[:,0],H_data[:,i])\n",
    "    ips.append(ip)\n",
    "    hds.append(hd)"
   ]
  },
  {
   "cell_type": "code",
   "execution_count": null,
   "metadata": {},
   "outputs": [],
   "source": [
    "fig,ax = plt.subplots(1,1,figsize=(10,7))\n",
    "plt.scatter(ips,hds,s=1)\n",
    "plt.xlabel(\"Inner Product\")\n",
    "plt.ylabel(\"Hamming Distance\")\n",
    "plt.show()"
   ]
  },
  {
   "cell_type": "markdown",
   "metadata": {},
   "source": [
    "-----"
   ]
  },
  {
   "cell_type": "code",
   "execution_count": null,
   "metadata": {},
   "outputs": [],
   "source": [
    "#Query\n",
    "print(data['fnames'][q_index])\n",
    "q"
   ]
  },
  {
   "cell_type": "code",
   "execution_count": null,
   "metadata": {},
   "outputs": [],
   "source": [
    "ans2"
   ]
  },
  {
   "cell_type": "code",
   "execution_count": null,
   "metadata": {},
   "outputs": [],
   "source": [
    "#LSH\n",
    "print(data['fnames'][4658])\n",
    "print(data['fnames'][5496])"
   ]
  },
  {
   "cell_type": "code",
   "execution_count": null,
   "metadata": {},
   "outputs": [],
   "source": [
    "#Linear\n",
    "closest = _all.argsort()[::-1]\n",
    "closest"
   ]
  },
  {
   "cell_type": "code",
   "execution_count": null,
   "metadata": {},
   "outputs": [],
   "source": [
    "print(data['fnames'][closest[0]])\n",
    "#print(X[:,closest[0]])\n",
    "plt.imshow(imread(data['fnames'][closest[0]]))\n",
    "plt.show()"
   ]
  },
  {
   "cell_type": "code",
   "execution_count": null,
   "metadata": {},
   "outputs": [],
   "source": [
    "print(data['fnames'][closest[1]])\n",
    "#print(X[:,closest[1]])\n",
    "plt.imshow(imread(data['fnames'][closest[1]]))\n",
    "plt.show()"
   ]
  },
  {
   "cell_type": "code",
   "execution_count": null,
   "metadata": {},
   "outputs": [],
   "source": [
    "print(data['fnames'][closest[2]])\n",
    "#print(X[:,closest[2]])\n",
    "plt.imshow(imread(data['fnames'][closest[2]]))\n",
    "plt.show()"
   ]
  },
  {
   "cell_type": "code",
   "execution_count": null,
   "metadata": {},
   "outputs": [],
   "source": [
    "print(data['fnames'][closest[-1]])\n",
    "#print(X[:,closest[-1]])\n",
    "plt.imshow(imread(data['fnames'][closest[-1]]))\n",
    "plt.show()"
   ]
  },
  {
   "cell_type": "code",
   "execution_count": null,
   "metadata": {},
   "outputs": [],
   "source": []
  }
 ],
 "metadata": {
  "kernelspec": {
   "display_name": "Python 3",
   "language": "python",
   "name": "python3"
  },
  "language_info": {
   "codemirror_mode": {
    "name": "ipython",
    "version": 3
   },
   "file_extension": ".py",
   "mimetype": "text/x-python",
   "name": "python",
   "nbconvert_exporter": "python",
   "pygments_lexer": "ipython3",
   "version": "3.7.0"
  }
 },
 "nbformat": 4,
 "nbformat_minor": 2
}
