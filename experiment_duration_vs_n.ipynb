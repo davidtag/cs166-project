{
 "cells": [
  {
   "cell_type": "code",
   "execution_count": 78,
   "metadata": {},
   "outputs": [
    {
     "name": "stdout",
     "output_type": "stream",
     "text": [
      "The autoreload extension is already loaded. To reload it, use:\n",
      "  %reload_ext autoreload\n"
     ]
    }
   ],
   "source": [
    "from lsh import *\n",
    "from utils import *\n",
    "from query import *\n",
    "import time\n",
    "import seaborn\n",
    "seaborn.set()\n",
    "\n",
    "%load_ext autoreload\n",
    "%autoreload 2"
   ]
  },
  {
   "cell_type": "code",
   "execution_count": 104,
   "metadata": {},
   "outputs": [
    {
     "name": "stdout",
     "output_type": "stream",
     "text": [
      "[100, 398, 1584, 6309, 25118, 100000]\n",
      "N, LSH, Linear \n",
      "100, 0.574,  0.068\n",
      "398, 0.616,  0.096\n",
      "1584, 1.259,  0.547\n",
      "6309, 1.867,  3.184\n",
      "25118, 2.905, 13.780\n",
      "100000,20.448, 60.224\n"
     ]
    }
   ],
   "source": [
    "k = 10\n",
    "L = 2\n",
    "d = 1024   #data dimensionality\n",
    "N_queries = 25\n",
    "\n",
    "# Ns = [10, 30, 100, 300, 1000, 3000, 10000, 30000, 100000, 300000]\n",
    "# Ns = [100, 500, 1000, 2000]\n",
    "# for n in range(10000, 100000, 10000):\n",
    "#     Ns.append(n)\n",
    "    \n",
    "Ns = []\n",
    "for x in np.linspace(2, 5, 6):\n",
    "    Ns.append(int(10**x))\n",
    "print(Ns)\n",
    "\n",
    "d1s = []\n",
    "d2s = []\n",
    "print(\"N, LSH, Linear \")\n",
    "for n_idx, n in enumerate(Ns):\n",
    "    G = data_generator(n=n,d=d,normalize=True)\n",
    "    b = 200 #hash bits\n",
    "    \n",
    "    e = 2.9  #number of permutations\n",
    "    M = round(2*n**(1/(1+e)))\n",
    "\n",
    "    model = LSH(X=G.get_dataset(),b=b,M=M)\n",
    "\n",
    "    t1 = time.time()\n",
    "    for i in range(N_queries):\n",
    "        model.approx_top_k(G.get_query(), k, L, refine=\"innerprod\")\n",
    "    t2 = time.time()\n",
    "    duration1 = (t2-t1)/N_queries*1000\n",
    "    \n",
    "    t1 = time.time()\n",
    "    for i in range(N_queries):\n",
    "        model.exact_top_k(G.get_query(), k)\n",
    "    t2 = time.time()\n",
    "    duration2 = (t2-t1)/N_queries*1000\n",
    "    \n",
    "    print(\"{},{:6.3f}, {:6.3f}\".format(n, duration1, duration2))\n",
    "    d1s.append(duration1)\n",
    "    d2s.append(duration2)\n",
    "    \n",
    "\n"
   ]
  },
  {
   "cell_type": "code",
   "execution_count": 105,
   "metadata": {},
   "outputs": [
    {
     "data": {
      "image/png": "[encoded data removed]",
      "text/plain": [
       "<Figure size 432x288 with 1 Axes>"
      ]
     },
     "metadata": {},
     "output_type": "display_data"
    }
   ],
   "source": [
    "plt.plot(Ns, d1s, '.-', label=\"LSH\")\n",
    "plt.plot(Ns, d2s, '.-', label=\"Linear\")\n",
    "plt.xlabel(\"Dataset Size, N\")\n",
    "plt.ylabel(\"Time (ms/query)\")\n",
    "xs = np.arange(0,max(Ns)+1,25000)\n",
    "plt.xticks(xs,[format(_,\",\") for _ in xs])\n",
    "# plt.grid()\n",
    "plt.legend()\n",
    "# seaborn.set(style=\"ticks\")\n",
    "seaborn.set()\n",
    "plt.savefig(\"time_vs_n\", dpi=300)\n",
    "plt.show()\n"
   ]
  },
  {
   "cell_type": "code",
   "execution_count": null,
   "metadata": {},
   "outputs": [],
   "source": []
  },
  {
   "cell_type": "code",
   "execution_count": null,
   "metadata": {},
   "outputs": [],
   "source": []
  }
 ],
 "metadata": {
  "kernelspec": {
   "display_name": "Python 3",
   "language": "python",
   "name": "python3"
  },
  "language_info": {
   "codemirror_mode": {
    "name": "ipython",
    "version": 3
   },
   "file_extension": ".py",
   "mimetype": "text/x-python",
   "name": "python",
   "nbconvert_exporter": "python",
   "pygments_lexer": "ipython3",
   "version": "3.6.8"
  }
 },
 "nbformat": 4,
 "nbformat_minor": 2
}
