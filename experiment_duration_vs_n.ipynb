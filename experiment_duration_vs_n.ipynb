{
 "cells": [
  {
   "cell_type": "code",
   "execution_count": 9,
   "metadata": {},
   "outputs": [
    {
     "name": "stdout",
     "output_type": "stream",
     "text": [
      "The autoreload extension is already loaded. To reload it, use:\n",
      "  %reload_ext autoreload\n"
     ]
    }
   ],
   "source": [
    "from lsh import *\n",
    "from utils import *\n",
    "from query import *\n",
    "import time\n",
    "\n",
    "%load_ext autoreload\n",
    "%autoreload 2"
   ]
  },
  {
   "cell_type": "code",
   "execution_count": 4,
   "metadata": {},
   "outputs": [],
   "source": []
  },
  {
   "cell_type": "code",
   "execution_count": 5,
   "metadata": {},
   "outputs": [],
   "source": []
  },
  {
   "cell_type": "code",
   "execution_count": 40,
   "metadata": {},
   "outputs": [
    {
     "name": "stdout",
     "output_type": "stream",
     "text": [
      "N, LSH, Linear \n",
      "100, 1.247,  0.075\n",
      "500, 1.547,  0.119\n",
      "1000, 3.143,  0.332\n",
      "2000, 3.786,  0.730\n",
      "10000, 4.715,  4.938\n",
      "20000, 4.385, 10.616\n",
      "30000, 5.026, 11.694\n",
      "40000, 5.330, 22.678\n",
      "50000, 6.860, 28.595\n",
      "60000, 6.159, 35.263\n",
      "70000, 5.863, 41.582\n",
      "80000, 7.112, 48.286\n",
      "90000, 6.684, 53.071\n"
     ]
    }
   ],
   "source": [
    "\n",
    "k = 10\n",
    "L = 4\n",
    "d = 1024   #data dimensionality\n",
    "N_queries = 10\n",
    "\n",
    "Ns = [10, 30, 100, 300, 1000, 3000, 10000, 30000, 100000, 300000]\n",
    "Ns = [100, 500, 1000, 2000]\n",
    "for n in range(10000, 100000, 10000):\n",
    "    Ns.append(n)\n",
    "    \n",
    "Ns = []\n",
    "for x in linspace(2, 6, 5):\n",
    "    Ns.append(10**x)\n",
    "print(Ns)\n",
    "\n",
    "d1s = []\n",
    "d2s = []\n",
    "print(\"N, LSH, Linear \")\n",
    "for n_idx, n in enumerate(Ns):\n",
    "    G = data_generator(n=n,d=d,normalize=True)\n",
    "    b = 200 #hash bits\n",
    "    M = 30  #number of permutations\n",
    "    model = LSH(X=G.get_dataset(),b=b,M=M)\n",
    "\n",
    "    t1 = time.time()\n",
    "    for i in range(N_queries):\n",
    "        model.approx_top_k(G.get_query(), k, L, refine=\"innerprod\")\n",
    "    t2 = time.time()\n",
    "    duration1 = (t2-t1)/N_queries*1000\n",
    "    \n",
    "    t1 = time.time()\n",
    "    for i in range(N_queries):\n",
    "        model.exact_top_k(G.get_query(), k)\n",
    "    t2 = time.time()\n",
    "    duration2 = (t2-t1)/N_queries*1000\n",
    "    \n",
    "    print(\"{},{:6.3f}, {:6.3f}\".format(n, duration1, duration2))\n",
    "    d1s.append(duration1)\n",
    "    d2s.append(duration2)\n",
    "    \n",
    "\n"
   ]
  },
  {
   "cell_type": "code",
   "execution_count": 44,
   "metadata": {},
   "outputs": [
    {
     "data": {
      "text/plain": [
       "<matplotlib.legend.Legend at 0x1c1ff75f60>"
      ]
     },
     "execution_count": 44,
     "metadata": {},
     "output_type": "execute_result"
    },
    {
     "data": {
      "image/png": "[encoded data removed]",
      "text/plain": [
       "<Figure size 432x288 with 1 Axes>"
      ]
     },
     "metadata": {
      "needs_background": "light"
     },
     "output_type": "display_data"
    }
   ],
   "source": [
    "plt.loglog(Ns, d1s, '-x', label=\"Linear\")\n",
    "plt.loglog(Ns, d2s, '-x', label=\"LHS\")\n",
    "plt.xlabel(\"N vectors\")\n",
    "plt.ylabel(\"msec per query\")\n",
    "plt.legend()"
   ]
  },
  {
   "cell_type": "code",
   "execution_count": null,
   "metadata": {},
   "outputs": [],
   "source": [
    "plt.plot(Ns, d1s, '-x', label=\"Linear\")\n",
    "plt.plot(Ns, d2s, '-x', label=\"LHS\")\n",
    "plt.xlabel(\"N vectors\")\n",
    "plt.ylabel(\"msec per query\")\n",
    "plt.legend()"
   ]
  },
  {
   "cell_type": "code",
   "execution_count": 38,
   "metadata": {},
   "outputs": [],
   "source": [
    "Ns = [100, 500, 1000, 2000, range(10000, 100000, 10000)]\n"
   ]
  },
  {
   "cell_type": "code",
   "execution_count": 39,
   "metadata": {},
   "outputs": [
    {
     "name": "stdout",
     "output_type": "stream",
     "text": [
      "[100, 500, 1000, 2000, range(10000, 100000, 10000)]\n"
     ]
    }
   ],
   "source": [
    "print(Ns)"
   ]
  },
  {
   "cell_type": "code",
   "execution_count": null,
   "metadata": {},
   "outputs": [],
   "source": []
  }
 ],
 "metadata": {
  "kernelspec": {
   "display_name": "Python 3",
   "language": "python",
   "name": "python3"
  },
  "language_info": {
   "codemirror_mode": {
    "name": "ipython",
    "version": 3
   },
   "file_extension": ".py",
   "mimetype": "text/x-python",
   "name": "python",
   "nbconvert_exporter": "python",
   "pygments_lexer": "ipython3",
   "version": "3.6.8"
  }
 },
 "nbformat": 4,
 "nbformat_minor": 2
}
