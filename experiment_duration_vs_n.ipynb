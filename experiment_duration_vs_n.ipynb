{
 "cells": [
  {
   "cell_type": "code",
   "execution_count": 9,
   "metadata": {},
   "outputs": [
    {
     "name": "stdout",
     "output_type": "stream",
     "text": [
      "The autoreload extension is already loaded. To reload it, use:\n",
      "  %reload_ext autoreload\n"
     ]
    }
   ],
   "source": [
    "from lsh import *\n",
    "from utils import *\n",
    "from query import *\n",
    "import time\n",
    "\n",
    "%load_ext autoreload\n",
    "%autoreload 2"
   ]
  },
  {
   "cell_type": "code",
   "execution_count": 4,
   "metadata": {},
   "outputs": [],
   "source": []
  },
  {
   "cell_type": "code",
   "execution_count": 5,
   "metadata": {},
   "outputs": [],
   "source": []
  },
  {
   "cell_type": "code",
   "execution_count": 26,
   "metadata": {},
   "outputs": [
    {
     "name": "stdout",
     "output_type": "stream",
     "text": [
      " 0.898,  0.064\n",
      " 0.905,  0.067\n",
      " 1.007,  0.070\n",
      " 1.471,  0.093\n",
      " 2.827,  0.397\n",
      " 3.993,  1.237\n",
      " 4.616,  5.540\n",
      " 5.008, 16.376\n",
      " 7.294, 61.024\n",
      "960.918, 205.700\n"
     ]
    }
   ],
   "source": [
    "\n",
    "k = 10\n",
    "L = 4\n",
    "d = 1024   #data dimensionality\n",
    "N_queries = 10\n",
    "\n",
    "Ns = [10, 30, 100, 300, 1000, 3000, 10000, 30000, 100000, 300000]\n",
    "Ns = range(1000, )\n",
    "\n",
    "d1s = []\n",
    "d2s = []\n",
    "print(\"N, LSH, Linear \")\n",
    "for n_idx, n in enumerate(Ns):\n",
    "    G = data_generator(n=n,d=d,normalize=True)\n",
    "    b = 200 #hash bits\n",
    "    M = 30  #number of permutations\n",
    "    model = LSH(X=G.get_dataset(),b=b,M=M)\n",
    "\n",
    "    t1 = time.time()\n",
    "    for i in range(N_queries):\n",
    "        model.approx_top_k(G.get_query(), k, L, refine=\"innerprod\")\n",
    "    t2 = time.time()\n",
    "    duration1 = (t2-t1)/N_queries*1000\n",
    "    \n",
    "    t1 = time.time()\n",
    "    for i in range(N_queries):\n",
    "        model.exact_top_k(G.get_query(), k)\n",
    "    t2 = time.time()\n",
    "    duration2 = (t2-t1)/N_queries*1000\n",
    "    \n",
    "    print(\"{},{:6.3f}, {:6.3f}\".format(n, duration1, duration2))\n",
    "    d1s.append(duration1)\n",
    "    d2s.append(duration2)\n",
    "    \n",
    "\n"
   ]
  },
  {
   "cell_type": "code",
   "execution_count": 31,
   "metadata": {},
   "outputs": [
    {
     "data": {
      "text/plain": [
       "<matplotlib.legend.Legend at 0x1c1e24b6a0>"
      ]
     },
     "execution_count": 31,
     "metadata": {},
     "output_type": "execute_result"
    },
    {
     "data": {
      "image/png": "[encoded data removed]",
      "text/plain": [
       "<Figure size 432x288 with 1 Axes>"
      ]
     },
     "metadata": {
      "needs_background": "light"
     },
     "output_type": "display_data"
    }
   ],
   "source": [
    "plt.plot(Ns, d1s[:-1], '-x', label=\"Linear\")\n",
    "plt.plot(Ns, d2s[:-1], '-x', label=\"LHS\")\n",
    "plt.legend()"
   ]
  },
  {
   "cell_type": "code",
   "execution_count": 29,
   "metadata": {},
   "outputs": [
    {
     "data": {
      "text/plain": [
       "[10, 30, 100, 300, 1000, 3000, 10000, 30000, 100000, 300000]"
      ]
     },
     "execution_count": 29,
     "metadata": {},
     "output_type": "execute_result"
    }
   ],
   "source": [
    "Ns"
   ]
  },
  {
   "cell_type": "code",
   "execution_count": 30,
   "metadata": {},
   "outputs": [
    {
     "name": "stdout",
     "output_type": "stream",
     "text": [
      "[10, 30, 100, 300, 1000, 3000, 10000, 30000, 100000]\n"
     ]
    }
   ],
   "source": [
    "Ns = Ns[:-1]\n",
    "print(Ns)"
   ]
  },
  {
   "cell_type": "code",
   "execution_count": null,
   "metadata": {},
   "outputs": [],
   "source": []
  }
 ],
 "metadata": {
  "kernelspec": {
   "display_name": "Python 3",
   "language": "python",
   "name": "python3"
  },
  "language_info": {
   "codemirror_mode": {
    "name": "ipython",
    "version": 3
   },
   "file_extension": ".py",
   "mimetype": "text/x-python",
   "name": "python",
   "nbconvert_exporter": "python",
   "pygments_lexer": "ipython3",
   "version": "3.6.8"
  }
 },
 "nbformat": 4,
 "nbformat_minor": 2
}
