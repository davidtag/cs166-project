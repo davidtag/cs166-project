{
 "cells": [
  {
   "cell_type": "code",
   "execution_count": 23,
   "metadata": {},
   "outputs": [
    {
     "name": "stdout",
     "output_type": "stream",
     "text": [
      "The autoreload extension is already loaded. To reload it, use:\n",
      "  %reload_ext autoreload\n"
     ]
    }
   ],
   "source": [
    "from lsh import *\n",
    "from utils import *\n",
    "from query import *\n",
    "\n",
    "%load_ext autoreload\n",
    "%autoreload 2\n",
    "\n",
    "PATH_IMGS     = \"imnet-val/val/\"\n",
    "FILE_FEATURES = \"imnet-val/cnn-5000.p\"\n",
    "FNAME_OFFSET  = 48 #prefix of stored file names to chop off\n",
    "IMSIZE        = (224, 224)\n",
    "\n",
    "data = dataset(FILE_FEATURES,PATH_IMGS,IMSIZE,normalize=True,fname_offt=FNAME_OFFSET)\n",
    "\n",
    "PATH_IMGS     = \"imnet-test-1000/imgs/\"\n",
    "FILE_FEATURES = \"imnet-test-1000/cnn-1000.p\"\n",
    "FNAME_OFFSET  = 23 #prefix of stored file names to chop off\n",
    "IMSIZE        = (224, 224)\n",
    "queries = dataset(FILE_FEATURES,PATH_IMGS,IMSIZE,normalize=True,fname_offt=FNAME_OFFSET)"
   ]
  },
  {
   "cell_type": "code",
   "execution_count": 54,
   "metadata": {},
   "outputs": [],
   "source": [
    "b = 200 #hash bits\n",
    "M = 30  #number of permutations\n",
    "\n",
    "query_obj = query(data=data, queries_dataset=queries, hash_bits=b, \n",
    "                  permutations=M)"
   ]
  },
  {
   "cell_type": "code",
   "execution_count": 67,
   "metadata": {},
   "outputs": [
    {
     "data": {
      "image/png": "[encoded data removed]",
      "text/plain": [
       "<Figure size 1080x360 with 1 Axes>"
      ]
     },
     "metadata": {
      "needs_background": "light"
     },
     "output_type": "display_data"
    },
    {
     "name": "stdout",
     "output_type": "stream",
     "text": [
      "0.0015286850929260255\n"
     ]
    }
   ],
   "source": [
    "L = 4   #number of neighbors to make candidates\n",
    "k = 10  #top-k nearest neighbors\n",
    "\n",
    "t, ndgc = query_obj.time_and_compare(100, N_neighbor_candidates=L, k_report=k)\n",
    "query_obj.ndgc_plot()\n",
    "print(t, ndgc)"
   ]
  },
  {
   "cell_type": "code",
   "execution_count": 91,
   "metadata": {},
   "outputs": [
    {
     "name": "stdout",
     "output_type": "stream",
     "text": [
      "b e M L t ndgc\n",
      "200 2.7 20 0 0.0008691620826721192 nan\n",
      "200 2.7 20 2 0.0009250998497009278 0.9277641569637152\n",
      "200 2.7 20 4 0.0010942316055297851 0.9386387826885264\n",
      "200 2.7 20 8 0.0016170477867126466 0.9562842610992675\n"
     ]
    }
   ],
   "source": [
    "k = 10  #top-k nearest neighbors\n",
    "\n",
    "Ls = [4] #number of neighbors to make candidates\n",
    "bs = [200] #hash bits\n",
    "es = [2.7] #error tolerance\n",
    "\n",
    "Ls = [0, 2, 4, 8] #number of neighbors to make candidates\n",
    "# bs = [20, 200, 600, 1000] #hash bits\n",
    "# es = [4, 2.7, 2.1, 1.5] #error tolerance\n",
    "\n",
    "\n",
    "ts = np.zeros((len(bs), len(es), len(Ls)))\n",
    "ndgcs = np.zeros((len(bs), len(es), len(Ls)))\n",
    "print(\"b e M L t ndgc\")\n",
    "for i,b in enumerate(bs):\n",
    "    for j,e in enumerate(es):\n",
    "        n = data.X.shape[1]\n",
    "        M = round(2*n**(1/(1+e)))\n",
    "        query_obj = query(data=data, queries_dataset=queries, hash_bits=b, \n",
    "                  permutations=M)\n",
    "        \n",
    "        for k,L in enumerate(Ls):\n",
    "            t, ndgc = query_obj.time_and_compare(100, N_neighbor_candidates=L, k_report=k)\n",
    "            print(b, e, M, L, t, ndgc)\n"
   ]
  },
  {
   "cell_type": "markdown",
   "metadata": {},
   "source": [
    "---"
   ]
  }
 ],
 "metadata": {
  "kernelspec": {
   "display_name": "Python 3",
   "language": "python",
   "name": "python3"
  },
  "language_info": {
   "codemirror_mode": {
    "name": "ipython",
    "version": 3
   },
   "file_extension": ".py",
   "mimetype": "text/x-python",
   "name": "python",
   "nbconvert_exporter": "python",
   "pygments_lexer": "ipython3",
   "version": "3.6.8"
  }
 },
 "nbformat": 4,
 "nbformat_minor": 2
}
