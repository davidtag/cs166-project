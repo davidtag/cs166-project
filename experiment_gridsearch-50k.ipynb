{
 "cells": [
  {
   "cell_type": "code",
   "execution_count": 1,
   "metadata": {},
   "outputs": [],
   "source": [
    "from lsh import *\n",
    "from utils import *\n",
    "from query import *\n",
    "\n",
    "%load_ext autoreload\n",
    "%autoreload 2"
   ]
  },
  {
   "cell_type": "code",
   "execution_count": 2,
   "metadata": {},
   "outputs": [],
   "source": [
    "PATH_IMGS     = \"imnet-val/val/\"\n",
    "FILE_FEATURES = \"imnet-val/cnn-50000.p\"\n",
    "FNAME_OFFSET  = 48 #prefix of stored file names to chop off\n",
    "IMSIZE        = (224, 224)\n",
    "\n",
    "data = dataset(FILE_FEATURES,PATH_IMGS,IMSIZE,normalize=True,fname_offt=FNAME_OFFSET)\n",
    "N_data = data.X.shape[1]\n",
    "\n",
    "PATH_IMGS     = \"imnet-test-1000/imgs/\"\n",
    "FILE_FEATURES = \"imnet-test-1000/cnn-1000.p\"\n",
    "FNAME_OFFSET  = 23 #prefix of stored file names to chop off\n",
    "IMSIZE        = (224, 224)\n",
    "queries = dataset(FILE_FEATURES,PATH_IMGS,IMSIZE,normalize=True,fname_offt=FNAME_OFFSET)"
   ]
  },
  {
   "cell_type": "markdown",
   "metadata": {},
   "source": [
    "# Vary all"
   ]
  },
  {
   "cell_type": "code",
   "execution_count": 9,
   "metadata": {},
   "outputs": [
    {
     "name": "stdout",
     "output_type": "stream",
     "text": [
      "N_data, N_queries, 50000, 10\n",
      "Ls, [0, 3, 9, 27]\n",
      "bs, [200]\n",
      "es, [4, 2.7, 2.3, 2.0, 1.8]\n",
      "Ms, [17, 37, 53, 74, 95]\n",
      " b_idx,  e_idx,  L_idx,     b,   eps,     M,     L, t (msec),     ndgc\n",
      "     0,      0,      0,   200,   4.0,    17,     0,    0.997,    0.750\n",
      "     0,      0,      1,   200,   4.0,    17,     3,    1.101,    0.875\n",
      "     0,      0,      2,   200,   4.0,    17,     9,    1.880,    0.908\n",
      "     0,      0,      3,   200,   4.0,    17,    27,    3.219,    0.947\n",
      "     0,      1,      0,   200,   2.7,    37,     0,    1.495,    0.818\n",
      "     0,      1,      1,   200,   2.7,    37,     3,    3.289,    0.916\n",
      "     0,      1,      2,   200,   2.7,    37,     9,    3.324,    0.942\n",
      "     0,      1,      3,   200,   2.7,    37,    27,    7.014,    0.967\n",
      "     0,      2,      0,   200,   2.3,    53,     0,    2.429,    0.818\n",
      "     0,      2,      1,   200,   2.3,    53,     3,    2.300,    0.918\n",
      "     0,      2,      2,   200,   2.3,    53,     9,    3.735,    0.957\n",
      "     0,      2,      3,   200,   2.3,    53,    27,    9.684,    0.983\n",
      "     0,      3,      0,   200,   2.0,    74,     0,    2.634,    0.851\n",
      "     0,      3,      1,   200,   2.0,    74,     3,    3.332,    0.937\n",
      "     0,      3,      2,   200,   2.0,    74,     9,    5.971,    0.954\n",
      "     0,      3,      3,   200,   2.0,    74,    27,   13.058,    0.981\n",
      "     0,      4,      0,   200,   1.8,    95,     0,    3.043,    0.877\n",
      "     0,      4,      1,   200,   1.8,    95,     3,    4.435,    0.953\n",
      "     0,      4,      2,   200,   1.8,    95,     9,    7.335,    0.967\n",
      "     0,      4,      3,   200,   1.8,    95,    27,   27.478,    0.987\n"
     ]
    }
   ],
   "source": [
    "N_queries = 10\n",
    "\n",
    "Ls = [0, 3, 9, 27] #number of neighbors to make candidates\n",
    "bs = [200] #hash bits\n",
    "es = [4, 2.7, 2.3, 2.0, 1.8] #error tolerance\n",
    "\n",
    "results = param_search(data, queries, Ls, bs, es, N_queries)"
   ]
  },
  {
   "cell_type": "code",
   "execution_count": 8,
   "metadata": {},
   "outputs": [
    {
     "name": "stdout",
     "output_type": "stream",
     "text": [
      "Optimal points\n",
      "  b,   e,  M,  L,    t,  ndgc\n",
      "200, 4.0, 17,  0, 0.63, 0.722\n",
      "200, 4.0, 17, 16, 2.21, 0.921\n",
      "200, 2.7, 37,  0, 1.32, 0.790\n",
      "200, 2.7, 37,  4, 1.62, 0.896\n",
      "200, 2.1, 66,  4, 3.72, 0.937\n",
      "200, 2.1, 66, 16, 7.72, 0.974\n",
      "200, 1.8, 95,  0, 3.91, 0.841\n",
      "200, 1.8, 95, 64,32.26, 0.994\n",
      "200, 1.6,128,  0, 4.73, 0.878\n",
      "200, 1.6,128, 16,14.84, 0.987\n"
     ]
    },
    {
     "data": {
      "image/png": "[encoded data removed]",
      "text/plain": [
       "<Figure size 432x288 with 1 Axes>"
      ]
     },
     "metadata": {
      "needs_background": "light"
     },
     "output_type": "display_data"
    }
   ],
   "source": [
    "axlims = [0, 100, 0.5, 1]\n",
    "idxs = plot_search(results, N_data, N_queries, axlims)"
   ]
  },
  {
   "cell_type": "markdown",
   "metadata": {},
   "source": [
    "# Vary b"
   ]
  },
  {
   "cell_type": "code",
   "execution_count": null,
   "metadata": {},
   "outputs": [],
   "source": [
    "N_queries = 10\n",
    "\n",
    "bs = range(5, 250, 20)\n",
    "es = [4, 2] #error tolerance\n",
    "Ls = [1, 6] #number of neighbors to make candidates\n",
    "\n",
    "results = param_search(data, queries, Ls, bs, es, N_queries)"
   ]
  },
  {
   "cell_type": "code",
   "execution_count": null,
   "metadata": {},
   "outputs": [],
   "source": [
    "plot_param_search(results, 0, N_data, N_queries)"
   ]
  },
  {
   "cell_type": "markdown",
   "metadata": {},
   "source": [
    "# Vary eps"
   ]
  },
  {
   "cell_type": "code",
   "execution_count": null,
   "metadata": {},
   "outputs": [],
   "source": [
    "N_queries = 200\n",
    "\n",
    "bs = [200]\n",
    "es = [9, 4, 2.7, 2.2, 1.9, 1.7, 1.5, 1.3, 1.0]\n",
    "Ls = [1, 6] #number of neighbors to make candidates\n",
    "\n",
    "results = param_search(data, queries, Ls, bs, es, N_queries)"
   ]
  },
  {
   "cell_type": "code",
   "execution_count": null,
   "metadata": {},
   "outputs": [],
   "source": [
    "plot_param_search(results, 1, N_data, N_queries)"
   ]
  },
  {
   "cell_type": "markdown",
   "metadata": {},
   "source": [
    "# Vary L"
   ]
  },
  {
   "cell_type": "code",
   "execution_count": null,
   "metadata": {},
   "outputs": [],
   "source": [
    "N_queries = 200\n",
    "\n",
    "bs = [200]\n",
    "es = [4, 2] #error tolerance\n",
    "Ls = range(0, 20, 1) #number of neighbors to make candidates\n",
    "\n",
    "results = param_search(data, queries, Ls, bs, es, N_queries)"
   ]
  },
  {
   "cell_type": "code",
   "execution_count": null,
   "metadata": {},
   "outputs": [],
   "source": [
    "plot_param_search(results, 2, N_data, N_queries)"
   ]
  },
  {
   "cell_type": "code",
   "execution_count": null,
   "metadata": {},
   "outputs": [],
   "source": []
  },
  {
   "cell_type": "code",
   "execution_count": null,
   "metadata": {},
   "outputs": [],
   "source": []
  }
 ],
 "metadata": {
  "kernelspec": {
   "display_name": "Python 3",
   "language": "python",
   "name": "python3"
  },
  "language_info": {
   "codemirror_mode": {
    "name": "ipython",
    "version": 3
   },
   "file_extension": ".py",
   "mimetype": "text/x-python",
   "name": "python",
   "nbconvert_exporter": "python",
   "pygments_lexer": "ipython3",
   "version": "3.6.8"
  }
 },
 "nbformat": 4,
 "nbformat_minor": 2
}
